{
 "cells": [
  {
   "cell_type": "markdown",
   "metadata": {},
   "source": [
    "# `Explaining Logistic Regression`\n",
    "\n",
    "# <font color=red>Mr Fugu Data Science</font>\n",
    "\n",
    "# (◕‿◕✿)\n",
    "\n",
    "# Purpose & Outcome:\n",
    "\n",
    "+ Cover the theory of Logistic Regression and get a feel of the underworkings\n",
    "+ Some plotting and examples to help \n",
    "\n",
    "[stats book](https://mregresion.files.wordpress.com/2012/08/agresti-introduction-to-categorical-data.pdf) | [great lecture notes: UCLA](http://web.cs.ucla.edu/~yzsun/classes/2018Fall_CS145/Discussion/Discussion_Week2.pdf)\n",
    "\n",
    "# `Let me know if there are any videos you would like to see.`\n",
    "\n",
    "\n",
    "# <font color=red>Check me out on Buy Me A Coffee:</font> `@mrfugudatasci`\n",
    "\n",
    "`--------------------------------`"
   ]
  },
  {
   "cell_type": "code",
   "execution_count": 14,
   "metadata": {},
   "outputs": [],
   "source": [
    "import numpy as np\n",
    "import math\n",
    "import matplotlib.pyplot as plt\n",
    "import statsmodels.api as sm\n",
    "from sklearn import linear_model\n",
    "%matplotlib inline"
   ]
  },
  {
   "cell_type": "markdown",
   "metadata": {},
   "source": [
    "# `Background:`\n",
    "\n",
    "+ `Logistic (Logit) regression` is used for `Classification`. We showed an example of this in the previous notebook (*`skLearn_01`*) where we looked for Ham/Spam for sms messages. \n",
    "\n",
    "+ You are trying to estimate the probability that some instance, belongs to a particular class. \n",
    "\n",
    "    + Using logistic regression, you are preserving the marginal probabilities of training data.\n",
    "    + You are also using the coefficients to aide in detecting what input variables are important. \n",
    "\n",
    "`--------------------------------------`\n",
    "\n",
    "**But, why not use `Linear Regression`?**\n",
    "\n",
    "+ In order to use `Linear Regression` we would have to create a threshold for the classification. \n",
    "    + This is a problem if we are only trying to do a (Pass/Fail).\n",
    "    + Unbounded results; unlike when using logistic which are [0:1]\n",
    "        + Hmm, what does that mean?\n",
    "            * Well: Linear regression will have an instance where the values are > 1 or <0. \n",
    "    + Outliers, are a problem because they will change the best fit line and increase error.\n",
    "\n",
    "\n",
    "# `Differences:`\n",
    "\n",
    "+ `Linear Regression:`\n",
    "    * Fits a line, to the points (data) which can be used to estimate/predicate a new value\n",
    "    \n",
    "\n",
    "+ `Logistic Regression:`\n",
    "    * fits a line to best separate between classes\n",
    "\n",
    "`--------------------------------------`\n",
    "\n",
    "\n",
    "We can connect Linear Regression to Logistic Regression:\n",
    "\n",
    "+ We are taking the labels and finding a predicted label and output a probability\n",
    "\n",
    "<font size=4>$y= \\widehat y$</font>, meaning (y) predicted, y= class label\n",
    "\n",
    "+ Using the sigma function we can take the linear regression and comfort to the range of [0,1] \n",
    "\n",
    "<font size=4>$\\widehat y = sigma function(\\beta_o +\\beta_1x_1+\\beta_2x_2+...) \\rightarrow \\widehat y \\in [0,1]$</font>\n",
    "\n",
    "+ We can equate the $(\\beta_o +\\beta_1x_1+\\beta_2x_2+...)$ as the distribution perpendicular to the line for our decision boundary. This means that the points residing in our plot are separated by a descision boundary.\n",
    "    + The points will be separated by a distance perpendicular to that line. \n",
    "    + That distance is therefore, giving a probability to a class or not. \n",
    "        + The farther they are from that line (decision boundary), the higher the probability toward that class label."
   ]
  },
  {
   "cell_type": "markdown",
   "metadata": {},
   "source": [
    "<img src=\"dist_perp.png\">"
   ]
  },
  {
   "cell_type": "markdown",
   "metadata": {},
   "source": [
    "# `What are we trying to find?`\n",
    "\n",
    "+ The parameters \"coefficients\" <font size=5>$\\beta$</font> are estimated using one of two methods:\n",
    "\n",
    "    * `Least Squares Optimization:` using iterative approach [IRWLS](https://en.wikipedia.org/wiki/Iteratively_reweighted_least_squares) \n",
    "    * `Max Likelihood Estimation` \n",
    "    \n",
    "\n",
    "    \n",
    "# `What Are We Exactly Calculating with Logistic Regression?`\n",
    "\n",
    "+ `You are computing a weighted sum of input features, plus a bias 'intercept' term`\n",
    "    + There is one coefficient per input.\n",
    "    \n",
    "`Starting from Linear Regression`: we have our hypothesis <font size=4>f ($x_i$)</font> representing the predicted response for the <font size=4>$i^{th}$</font> oberservation of <font size=4>$x_i$</font>.\n",
    "\n",
    "<font size=5>$P(X) =f(x_i) = \\hat{Y} = \\beta_0 + \\beta_1x_{i1}+ \\beta_2x_{i2}+...+\\beta_m x_{im}$</font>\n",
    "\n",
    "`At this point the output would be a (real) value, not a class label`.\n",
    "\n",
    "`-----------------------------`\n",
    "\n",
    "# Here comes the `Logistic Function` (*sigmoid function*)\n",
    "\n",
    "`Logistic Function:` <font size=5>$f(x) = \\frac{1}{(1 + e^{-x})}$</font>\n",
    "\n",
    "For input <font size=4>( x )</font> we will replace with the weighted sum\n",
    "\n",
    "\n",
    "<font size=5>$f(x) = \\frac{1}{(1 + e^{- (\\beta_o +\\beta x)})}$</font>\n",
    "\n",
    "`------------------------------`\n"
   ]
  },
  {
   "cell_type": "code",
   "execution_count": 2,
   "metadata": {},
   "outputs": [
    {
     "data": {
      "image/png": "[encoded data removed]",
      "text/plain": [
       "<Figure size 432x288 with 1 Axes>"
      ]
     },
     "metadata": {
      "needs_background": "light"
     },
     "output_type": "display_data"
    }
   ],
   "source": [
    "# Plot sigmoid\n",
    "x = np.linspace(-10, 10, 100) \n",
    "z = 1/(1 + np.exp(-x)) \n",
    "  \n",
    "plt.plot(x, z) \n",
    "plt.xlabel(\"x\") \n",
    "plt.ylabel(\"Sigmoid(X)\") \n",
    "plt.hlines(y=.5, xmin=-10, xmax=10, colors='red', linestyles='solid')\n",
    "plt.text(1,0.5,'Boundary Line 0.5')\n",
    "plt.show() "
   ]
  },
  {
   "cell_type": "markdown",
   "metadata": {},
   "source": [
    "# We are trying to find the best parameters for our example: from the family of logistics\n",
    "<img src=\"log_reg_fam.png\">\n",
    "\n",
    "[source](https://www.sjsu.edu/faculty/guangliang.chen/Math251F18/lec5logistic.pdf)"
   ]
  },
  {
   "cell_type": "markdown",
   "metadata": {},
   "source": [
    "# `What we would like is to fit a line to these data:`"
   ]
  },
  {
   "cell_type": "code",
   "execution_count": 3,
   "metadata": {},
   "outputs": [
    {
     "data": {
      "image/png": "[encoded data removed]",
      "text/plain": [
       "<Figure size 432x288 with 1 Axes>"
      ]
     },
     "metadata": {
      "needs_background": "light"
     },
     "output_type": "display_data"
    }
   ],
   "source": [
    "     \n",
    "height = np.transpose(np.array([[162, 165, 166, 170, 171, 168, 171, 175, 176,\n",
    "182, 185]]))\n",
    "y = np.transpose(np.array([[0, 0, 0, 0, 0, 1, 1, 1, 1, 1, 1]]))\n",
    "plt.xlabel(\"weight\",fontsize=20) \n",
    "plt.ylabel(\"Gender\",fontsize=20) \n",
    "plt.plot(height,y,'ro')\n",
    "plt.title('Height vs Gender')\n",
    "plt.show()"
   ]
  },
  {
   "cell_type": "markdown",
   "metadata": {},
   "source": [
    "\n",
    "# Now, we have to get the `Log-Odds:`\n",
    "\n",
    "+ Think of when you did an introduction to probability and were introduced to gambling: (wins:loses) ratio.\n",
    "\n",
    "We can convert that to a probability of success 'your odds': <font size=5>$\\frac{P}{1-P}$</font>\n",
    "\n",
    "`And to get the log-odds for success:` <font size=5>$log(\\frac{P}{1-P})$</font>\n",
    "\n",
    "Now we will plug this into our logistic function from above:\n",
    "\n",
    "<font size=5>$log(\\frac{P}{1-P}) = \\beta_o +\\beta X$</font>\n",
    "\n",
    "<font size=5>$\\frac{P}{1-P} = e^{\\beta_o +\\beta X}$</font>\n",
    "\n",
    "`-------------------------------`\n"
   ]
  },
  {
   "cell_type": "code",
   "execution_count": 4,
   "metadata": {},
   "outputs": [
    {
     "data": {
      "image/png": "[encoded data removed]",
      "text/plain": [
       "<Figure size 1440x720 with 1 Axes>"
      ]
     },
     "metadata": {
      "needs_background": "light"
     },
     "output_type": "display_data"
    }
   ],
   "source": [
    "# Log Odds:\n",
    "\n",
    "\n",
    "x = np.arange(0.01,20,0.1)\n",
    "y = np.log(x)\n",
    "plt.figure(figsize=(20,10))\n",
    "plt.rc('xtick', labelsize=20) \n",
    "plt.rc('ytick', labelsize=20) \n",
    "plt.vlines(x=1,ymin=-5,ymax=5, colors='red', linestyles='solid')\n",
    "plt.hlines(y=0,xmin=-1,xmax=20, colors='black', linestyles='solid')\n",
    "plt.xlabel(\"Odds\",size=20) \n",
    "plt.ylabel(\"Y = ln(X): AKA Log Odds\",size=20) \n",
    "\n",
    "plt.vlines(x=6,ymin=-5,ymax=5, colors='red', linestyles='dotted')\n",
    "plt.hlines(y=np.log(6),xmin=-1,xmax=20, colors='black', linestyles='dotted')\n",
    "plt.text(1,np.log(6),' Log Odds= 1.79 @\"Odds\"=6',size=20)\n",
    "plt.plot(x,y)\n",
    "plt.show()\n",
    "\n"
   ]
  },
  {
   "cell_type": "markdown",
   "metadata": {},
   "source": [
    "# `Let's Have fun and do some interpreting:`"
   ]
  },
  {
   "cell_type": "code",
   "execution_count": 5,
   "metadata": {},
   "outputs": [
    {
     "name": "stdout",
     "output_type": "stream",
     "text": [
      "Log-Odds ln(x); when Odds = 6: returns 1.79\n",
      "--------------------\n",
      "\n",
      "--------------------\n",
      "Probability when you convert Log-Odds value 1 / (1 + np.exp(-np.log(6)))= 0.86\n",
      "--------------------\n",
      "\n",
      "If Prob. = 0.7, let's find the Odds-ratio (P/(1-P)) = (2.33 : 1)\n",
      "you will have a 2.33 to 1 chance\n"
     ]
    }
   ],
   "source": [
    "log_odds_=np.log(6)\n",
    "print('Log-Odds ln(x); when Odds = 6: returns %.2f' % log_odds_)\n",
    "print('--------------------')\n",
    "print('')\n",
    "print('--------------------')\n",
    "prob_=1 / (1 + np.exp(-np.log(6)))\n",
    "print('Probability when you convert Log-Odds value 1 / (1 + np.exp(-np.log(6)))= %.2f'\n",
    "      % prob_ )\n",
    "print('--------------------')\n",
    "print('')\n",
    "odds_ = 0.7/.3\n",
    "print(\"If Prob. = 0.7, let's find the Odds-ratio (P/(1-P)) = (%.2f : 1)\" % odds_)\n",
    "print('you will have a 2.33 to 1 chance')"
   ]
  },
  {
   "cell_type": "markdown",
   "metadata": {},
   "source": [
    "# In `Logistic Regression` the dependent variable is the Logit:\n",
    "\n",
    "<font size=5>$Log(Odds) = logit(P) = ln(\\frac{P}{1-P})$</font>\n",
    "\n",
    "Therefore the odds is a function of probability of getting a 1.\n",
    "\n",
    "`-------------------------------`\n",
    "\n",
    "# `How about we use an example to clarify`\n",
    "\n",
    "`Ex.) Among men 40 years old, the odds of acting weird before the age of 50 are 2X's greater for never married men.`\n",
    "\n",
    "<font size=5>$\\frac{'oddsOfBeingWeird Given Never Married '}{odds Of Weird Being Married} =2$</font>\n",
    "\n",
    "\n",
    "<font size=5>$\\frac{'oddsOfBeingWeird Given Never Married '}{odds Of Weird Being Married} = \\frac{e^{\\beta_0}e^{\\beta_1}}{e^{\\beta_0}} = e^{\\beta_1}$</font>\n",
    "\n",
    "| **`Group`**         \t|   X\t| `Odds Weird`               \t|\n",
    "|---------------\t|---\t|--------------------------\t|\n",
    "| Never Married \t| 1 \t| <font size=4>$e^{\\beta_0}e^{\\beta_1}$</font> \t|\n",
    "| Married       \t| 0 \t| <font size=4>$e^{\\beta_0}$</font>            \t|\n",
    "\n",
    "\n",
    "# `Therefore, when we increase` <font size=5>$x_k$</font> `by 1 unit then the odds variable` <font size=5>$e^{\\beta_k}$</font> `is multiplied by Y=1. with all other independent variables held constant.`"
   ]
  },
  {
   "cell_type": "markdown",
   "metadata": {},
   "source": [
    "`----------------------------------------`\n",
    "\n",
    "# `Before we go further let's get some insight:`\n",
    "\n",
    "if we take the right hand side of the equation and set to <font size=5>$\\sum\\limits^{K}_{j=0}e^{b_jx_j}$</font> noticing that we have <font size=5>$\\prod\\limits^{K}_{j=0}e^{b_jx_j} $</font>\n",
    "\n",
    "+ **Notice** that you have a `multiplicative effect instead of additive like linear regression`\n",
    "\n",
    "**Ex.)** \n",
    "Now, let's give $b_j=0.789$, and set $x_j=1$ then we end up with 2.201\n",
    "Therefore, we would end up with each value odds for our response ($e^{b_j}$) being True will (Increase/Decrease) as $x_j$ increase 1 unit.\n",
    "\n",
    "Here, we noticed a doubling effect.\n",
    "\n",
    "`If you were using` $x_j$ `as some value such as months, or years then for each time interval of (x) you will double the odds of the response being true.` (All other things being held constant!)\n",
    "\n",
    "`ex.) if the categories were: Rich/Poor and encoded (Rich=1,Poor=0) then we would have if the response was Rich; twice as likely or being true (all other things being constant)`\n",
    "\n",
    "`---------------------------------`"
   ]
  },
  {
   "cell_type": "markdown",
   "metadata": {},
   "source": [
    "<font size=5>$\\frac{P}{1-P} = e^{\\beta_o +\\beta X}$</font>\n",
    "\n",
    "<font size=5>$P = e^{\\beta_o +\\beta X}(1-P)$</font>\n",
    "\n",
    "`Substitute`\n",
    "\n",
    "<font size=5>$P = e^{\\beta_o +\\beta X}-P(e^{\\beta_o +\\beta X})$</font>\n",
    "\n",
    "`move to other side`\n",
    "\n",
    "<font size=5>$P + P(e^{\\beta_o +\\beta X})= e^{\\beta_o +\\beta X}$</font>\n",
    "\n",
    "`combine`\n",
    "\n",
    "<font size=5>$P(1 + e^{\\beta_o +\\beta X})=e^{\\beta_o +\\beta X}$</font>\n",
    "\n",
    "`move to other side`\n",
    "\n",
    "<font size=5>$P = \\frac{e^{\\beta_o +\\beta X}}{(1 + e^{\\beta_o +\\beta X})}$</font>\n",
    "\n",
    "`equate 1 to exp. form`\n",
    "\n",
    "<font size=5>$P = \\frac{e^{\\beta_o +\\beta X}}{\\frac{e^{\\beta_o +\\beta X}}{e^{\\beta_o +\\beta X}}+ e^{\\beta_o +\\beta X}}$</font>\n",
    "\n",
    "`pull out common term and cancel`\n",
    "\n",
    "<font size=5>$P = \\frac{e^{\\beta_o +\\beta X}}{e^{\\beta_o +\\beta X}[{\\frac{1}{e^{\\beta_o +\\beta X}}+1}]}$</font>\n",
    "\n",
    "<font size=5>$P(X) = \\frac{1}{(1 + e^{- (\\beta_o +\\beta X)})}$</font>\n",
    "\n",
    "**Note:** if the log-odds are linearly related to capital (X), then the relation between X and P are nonlinear. Then you will have the S-curve we had above.\n",
    "\n",
    "+ The **decision boundary:**\n",
    "    * $\\beta_o +\\beta x=0$ will be your solution to the separating line for the predicted classes.\n",
    "    * Distance between the decision line is: <font size=5>$\\frac{\\beta_o}{||\\beta||}+x\\frac{\\beta}{||\\beta||}$</font>\n",
    "    \n",
    "    \n",
    "**`Logistic Regression WILL tell you where the boundary is between classes as well as the dependence of class probability boundaries`**\n",
    "\n",
    "[ex. and help](http://faculty.cas.usf.edu/mbrannick/regression/Logistic.html)\n",
    "\n",
    "`----------------------------------`\n",
    "\n",
    "**`We are trying to use the separation boundary to classify. The likelihood estimation will be maximized so we can get the best separation between class`**"
   ]
  },
  {
   "cell_type": "markdown",
   "metadata": {},
   "source": [
    "<img src=\"decision_bndry.png\">\n",
    "\n",
    "[source](https://github.com/DrIanGregory/MachineLearning-LogisticRegressionWithGradientDescentOrNewton)"
   ]
  },
  {
   "cell_type": "markdown",
   "metadata": {},
   "source": [
    "`--------------`\n",
    "\n",
    "# `Decision Boundary:`\n",
    "\n",
    "Understand that the properties of the decision boundary are `generated from the hypothesis`, not the dataset. This means that for instance:\n",
    "\n",
    "**$h_o(x)= g(\\beta_0+x \\beta_1+x_2\\beta_2)$**\n",
    "\n",
    "we would be able to take this had some $\\beta=\\begin{pmatrix} -5 \\\\ 1 \\\\ 1 \\end{pmatrix}$\n",
    "\n",
    "**and we were predicting that y=1**, then $-5+x_1+x_2>=0$ becomes $x_1+x_2>=5$\n",
    "\n",
    "\n",
    "+ **`Decission Boundary Consideration:`** Ideally, you aim for `Recall & Precision = 1`\n",
    "    * `Low Recall: High Precision:` situation where you may want to `reduce number of false positives without adjusting false negaitives` you will choose a value with either a `High Recall or Low Precision`.\n",
    "        + This can occur in situations where you have adevertising and you want to make a clear, positive impression.  \n",
    "    * `Low Precision: High Recall:` opposite of above.\n",
    "        + Think of falsly labeling someone with cancer as not having cancer.\n",
    "        \n",
    "[source](https://www.geeksforgeeks.org/understanding-logistic-regression/)\n",
    "\n",
    "# `Important:`\n",
    "\n",
    "**`Understand, that we are trying to find our parameters in order to create that decision boundary. That is what the next steps are for!`**\n",
    "\n",
    "+ we want the best predicted weights $\\beta_o,\\beta_1,...$ such that the p(x) will be as close as possible to the response y:label.\n",
    "\n",
    "    * To get the best weights, we can do log-likelihood estimation (*maximize*)\n",
    "\n",
    "[source](https://realpython.com/logistic-regression-python/)\n"
   ]
  },
  {
   "cell_type": "markdown",
   "metadata": {},
   "source": [
    "# ` Likelihood:`\n",
    "\n",
    "+ Since, `logistic regression` predicts probabilities and not just classes; we can use the likelihood.\n",
    "\n",
    "**Before we get started** we will need the `Bernoulli Trials` <font size=5>$p(x_i)^{y_i}(1-p(x_i))^{1-y_i}$</font>\n",
    "\n",
    "where:\n",
    "* <font size=4>$x_i =$ vector of features</font>\n",
    "* <font size=4>$y_i =$ class labels</font>\n",
    "\n",
    "\n",
    "<font size=5>$Y_i =\\{^{p=1}_{1-p=0}$</font>\n",
    "\n",
    "`Likelihood, with Bernoulli trials:`\n",
    "<font size=5>$L(\\beta_o,\\beta) = \\prod\\limits_{i=1}^n P(x_i)^{y_i}(P(x_i)^{1-y_i})$</font>\n",
    "\n",
    "* The `Likelihood:` is the conditional probability of getting the values we observed, as a function of $\\beta 's$\n",
    "\n",
    "    * your given some data ($y_i$) which is a function of the parameters $\\beta$ here\n",
    "\n",
    "`--------------------------------------------------`\n",
    "\n",
    "[Bernoulli/Binomial Review](http://galton.uchicago.edu/~eichler/stat22000/Handouts/l12.pdf)"
   ]
  },
  {
   "cell_type": "code",
   "execution_count": 6,
   "metadata": {},
   "outputs": [
    {
     "name": "stdout",
     "output_type": "stream",
     "text": [
      "Given a class (0,1) labeled (y) and some probability yhat:\n",
      "-------------\n",
      "y=1.0, yhat=0.8, likelihood: 0.80\n",
      "y=1.0, yhat=0.1, likelihood: 0.10\n",
      "y=0.0, yhat=0.1, likelihood: 0.90\n",
      "y=0.0, yhat=0.8, likelihood: 0.20\n"
     ]
    }
   ],
   "source": [
    "# ex.) \n",
    "print('Given a class (0,1) labeled (y) and some probability yhat:')\n",
    "print('-------------')\n",
    "\n",
    "\n",
    "def likelihood(y, yhat):\n",
    "    return yhat * y + (1 - yhat) * (1 - y)\n",
    " \n",
    "# test for y=1\n",
    "y, yhat = 1, 0.8\n",
    "print('y=%.1f, yhat=%.1f, likelihood: %.2f' % (y, yhat, likelihood(y, yhat)))\n",
    "y, yhat = 1, 0.1\n",
    "print('y=%.1f, yhat=%.1f, likelihood: %.2f' % (y, yhat, likelihood(y, yhat)))\n",
    "# test for y=0\n",
    "y, yhat = 0, 0.1\n",
    "print('y=%.1f, yhat=%.1f, likelihood: %.2f' % (y, yhat, likelihood(y, yhat)))\n",
    "y, yhat = 0, 0.8\n",
    "print('y=%.1f, yhat=%.1f, likelihood: %.2f' % (y, yhat, likelihood(y, yhat)))\n",
    "\n",
    "# adapted from: \n",
    "# https://machinelearningmastery.com/logistic-regression-with-maximum-likelihood-estimation/"
   ]
  },
  {
   "cell_type": "markdown",
   "metadata": {},
   "source": [
    "# `Log-Likelihood:`\n",
    "\n",
    "* We want to maximize the `log-likelihood` with respect to the $\\beta's$ \n",
    "\n",
    "    + `side note`: Using Sums vs Multiplications are easier to calculate/compute\n",
    "    + There are benefits with plotting and concavity as well when you are reaching the max\n",
    " \n",
    "`Log-Likelihood:` <font size=5>$l(\\beta_o,\\beta) = \\sum\\limits_{i=1}^{n} y_i log(P(x_i)) + \\sum\\limits_{i=1}^{n} (y_i-1)log(1-P(x_i))$</font>\n",
    "\n",
    "\n",
    "<font size=5>$l(\\beta_o,\\beta) = \\sum\\limits_{i=1}^{n} y_i log(P(x_i))+\\sum\\limits_{i=1}^{n} log(P(1-x_i))- y_ilog(P(1-x_i))$</font>\n",
    "\n",
    "`--------------------`\n",
    "\n",
    "`Manipulate logs:`\n",
    "\n",
    "<font size=5>$l(\\beta_o,\\beta) = \\sum\\limits_{i=1}^{n} y_i log(\\frac{P(x_i)}{1-P(x_i)})+log(1-P(x_i)))$</font>\n",
    "\n",
    "`--------------------`\n",
    "\n",
    "`Substitute:` <font size=5>$log(\\frac{P(x_i)}{1-P(x_i)}) = \\beta_o+x\\beta$</font>\n",
    "\n",
    "<font size=5>$l(\\beta_o,\\beta) = \\sum\\limits_{i=1}^{n} y_i (\\beta_o+x\\beta)+log(1-P(x_i)))$</font>\n",
    "\n",
    "`--------------------`\n",
    "\n",
    "`Substitute:` $P(x_i)$, also pay attention to the signs!\n",
    "\n",
    "<font size=5>$l(\\beta_o,\\beta) = \\sum\\limits_{i=1}^{n} y_i (\\beta_o+x\\beta)-log(1+e^{\\beta_o+x\\beta}))$</font>\n",
    "\n",
    "\n",
    "`------------------------------------------`"
   ]
  },
  {
   "cell_type": "markdown",
   "metadata": {},
   "source": [
    "# `Training our data:`\n",
    "\n",
    "**That is where the** `Cost Function` **comes into play: aims to estimate $\\beta$** \n",
    "\n",
    "+ **`Since the log-likelihood estimates the MAX and we want the MIN we need to put a (-) in front of it`**\n",
    "\n",
    "+ Since logistic regression estimates probabilities and makes predictions; we will use the $\\beta$ so that the model will estimate high probabilities for $y=1$ and low probalilities of $y=0$. \n",
    "\n",
    "\n",
    "<font size=5>$Y_i =\\{^{-log(P(x)), y=1}_{(-log(1-P(x)),y=0}$</font>\n",
    "\n",
    "\n",
    "[source](https://www.oreilly.com/library/view/hands-on-machine-learning/9781491962282/ch04.html#logisticregression_model_estimated_probability_vectorized_form) | [source2](https://towardsdatascience.com/logistic-regression-detailed-overview-46c4da4303bc)\n",
    "\n"
   ]
  },
  {
   "cell_type": "code",
   "execution_count": 7,
   "metadata": {},
   "outputs": [
    {
     "data": {
      "image/png": "[encoded data removed]",
      "text/plain": [
       "<Figure size 1440x720 with 1 Axes>"
      ]
     },
     "metadata": {
      "needs_background": "light"
     },
     "output_type": "display_data"
    }
   ],
   "source": [
    "x = np.arange(0.01,20,0.1)\n",
    "y = np.log(x)\n",
    "y_ = -np.log(x)\n",
    "plt.figure(figsize=(20,10))\n",
    "plt.rc('xtick', labelsize=20) \n",
    "plt.rc('ytick', labelsize=20) \n",
    "plt.vlines(x=1,ymin=-5,ymax=5, colors='red', linestyles='solid')\n",
    "plt.text(1.1,1.75,'x=1',size=22)\n",
    "plt.hlines(y=0,xmin=-1,xmax=20, colors='black', linestyles='solid')\n",
    "plt.xlabel(\"X\",size=20) \n",
    "plt.ylabel(\"Y\",size=20) \n",
    "plt.plot(x,y,label='-log(h(x))')\n",
    "plt.plot(x,-y,label='- log(1-h(x))')\n",
    "plt.vlines(x=0,ymin=-5,ymax=5, colors='black', linestyles='dotted')\n",
    "plt.title('Our Interest between: x=(0,1) for Cost function',fontsize=20)\n",
    "plt.legend(fontsize=20)\n",
    "plt.show()\n"
   ]
  },
  {
   "cell_type": "markdown",
   "metadata": {},
   "source": [
    "# `Y=1` which is $-log(h(x))$"
   ]
  },
  {
   "cell_type": "code",
   "execution_count": 8,
   "metadata": {},
   "outputs": [
    {
     "data": {
      "image/png": "[encoded data removed]",
      "text/plain": [
       "<Figure size 1440x720 with 1 Axes>"
      ]
     },
     "metadata": {
      "needs_background": "light"
     },
     "output_type": "display_data"
    }
   ],
   "source": [
    "x = np.arange(0.001,1,0.01)\n",
    "y = -np.log(x)\n",
    "plt.figure(figsize=(20,10))\n",
    "plt.rc('xtick', labelsize=20) \n",
    "plt.rc('ytick', labelsize=20) \n",
    "plt.vlines(x=1,ymin=0,ymax=3, colors='red', linestyles='solid')\n",
    "plt.text(1,1.75,'x=1',size=22)\n",
    "plt.hlines(y=0,xmin=0,xmax=1.1, colors='black', linestyles='solid')\n",
    "plt.vlines(x=0,ymin=0,ymax=7, colors='black', linestyles='solid')\n",
    "plt.xlabel(\"h(X)\",size=20) \n",
    "plt.ylabel(\"Cost\",size=20) \n",
    "plt.plot(x,y,label='- log(h(x))')\n",
    "plt.title(\"Cost Function for (- log(h(x)) Given Y=1\",fontsize=20)\n",
    "plt.legend(fontsize=20)\n",
    "plt.show()"
   ]
  },
  {
   "cell_type": "markdown",
   "metadata": {},
   "source": [
    "+ `If y=1 then the` $Cost(h(x),y)= - log(h(x))$, then P(x)=1 and Cost =0\n",
    "\n",
    "+ `If y=0` then the cost will be quite high and explode, P(x)=0, y=0, and high cost.\n",
    "\n",
    "where X is our $\\bar{Y}$\n",
    "\n",
    "This is saying that if we predict 1, given that y=1 then the cost is zero.\n",
    "\n",
    "`---------------------`"
   ]
  },
  {
   "cell_type": "code",
   "execution_count": 9,
   "metadata": {},
   "outputs": [
    {
     "data": {
      "image/png": "[encoded data removed]",
      "text/plain": [
       "<Figure size 1440x720 with 1 Axes>"
      ]
     },
     "metadata": {
      "needs_background": "light"
     },
     "output_type": "display_data"
    }
   ],
   "source": [
    "x = np.arange(0.001,1,0.01)\n",
    "y = -np.log(1-x)\n",
    "plt.figure(figsize=(20,10))\n",
    "plt.rc('xtick', labelsize=20) \n",
    "plt.rc('ytick', labelsize=20) \n",
    "plt.vlines(x=1,ymin=0,ymax=6, colors='red', linestyles='solid')\n",
    "plt.text(1,1.75,'x=1',size=22)\n",
    "plt.hlines(y=0,xmin=0,xmax=1.1, colors='black', linestyles='solid')\n",
    "plt.vlines(x=0,ymin=0,ymax=7, colors='black', linestyles='solid')\n",
    "plt.xlabel(\"h(X)\",size=20) \n",
    "plt.ylabel(\"Cost\",size=20) \n",
    "plt.plot(x,y,label='- log(1-h(x))')\n",
    "plt.title(\"Cost Function for (- log(h(x)) Given Y=0\",fontsize=20)\n",
    "plt.legend(fontsize=20)\n",
    "plt.show()"
   ]
  },
  {
   "cell_type": "markdown",
   "metadata": {},
   "source": [
    "# `This is telling us:` if y=0,which is $-log(h(1-x))$\n",
    "\n",
    "+ IF y=0 and we predicted 0, then the cost is 0.\n",
    "\n",
    "+ But, if y=0 and we predicted 1, then the cost is quite high and explodes.\n",
    "\n",
    "`------------------------------`"
   ]
  },
  {
   "cell_type": "markdown",
   "metadata": {},
   "source": [
    "# `Now what?`\n",
    "\n",
    "+ **`Well, we have the log-likelihood but, we would like to maximize this. But, unfortunately we are unable to go directly to finding derivatives w.r.t parameters.`** \n",
    "\n",
    "*`This is not a closed form solution, and we need to use approximation methods:`*\n",
    "\n",
    "# `Choose one:`\n",
    "\n",
    "`such as` \n",
    "\n",
    "* **`Gradient Descent`**\n",
    "* **`Newton-Raphson`**\n",
    "* `Other Iterative approaches`\n",
    "* `Cross Entropy`\n",
    "\n",
    "We want to use optimization (cost function) to do this\n",
    "\n",
    "`Gradient Descent:` can have some issues that need to be considered; for instance you can get stuck in a local minima with nonlinear functions."
   ]
  },
  {
   "cell_type": "markdown",
   "metadata": {},
   "source": [
    "# `Newton-Raphson:` is a root finding algorithm\n",
    "\n",
    "+ Since, we can't use the dirivative and set to zero let's get on with this!\n",
    "\n",
    "Take the log-likelihood from above:\n",
    "\n",
    "<font size=5>$l(\\beta_o,\\beta) = \\sum\\limits_{i=1}^{n} y_i (\\beta_o+x\\beta)-log(1+e^{\\beta_o+x\\beta})$</font>\n",
    "\n",
    "The **`Newton-Raphson Equation (1 iteration!):`** <font size=5>$\\beta_{i+1}=\\beta_i-\\frac{f'(\\beta_i)}{f''(\\beta_i)}$</font>\n",
    "\n",
    "`Take first partial derivatives w.r.t parameters:`\n",
    "\n",
    "<font size=5>$\\frac{\\partial l}{\\partial \\beta_1} = - \\sum\\limits_{i=1}^{n}\\frac{1}{1+e^{\\beta_o+x_i\\beta_1}}x_i e^{\\beta_o+\\beta_1x_i}+ \\sum\\limits_{i=1}^{n}y_ix_i$</font>\n",
    "\n",
    "`Let's do some substitution here:`\n",
    "\n",
    "<font size=5>$\\frac{\\partial l}{\\partial \\beta_1} = - \\sum\\limits_{i=1}^{n}P(x_i) x_i+  \\sum\\limits_{i=1}^{n}y_ix_i$</font>\n",
    "\n",
    "`Combine terms and bring out sum:`\n",
    "\n",
    "<font size=5>$\\frac{\\partial l}{\\partial \\beta_1} = \\sum\\limits_{i=1}^{n} x_i(y_i - P(x_i)) $</font>\n",
    "\n",
    "`Now We need the Second Partial Derivative:`\n",
    "\n",
    "<font size=5>$\\frac{\\partial^2 l}{\\partial \\beta_1 \\beta_o} = - \\sum\\limits_{i=1}^{n}x_{i,o}(\\frac{e^{\\beta_o+\\beta_{1,x_i}}}{1+e^{\\beta_o+\\beta_{1,x_i}}})(\\frac{1}{1+e^{\\beta_o+\\beta_{1,x_i}}}) x_{i,1}$</font>\n",
    "\n",
    "\n",
    "<font size=5>$\\frac{\\partial^2 l}{\\partial \\beta_1 \\beta_o} = \\sum\\limits_{i=1}^{n} x_{i,o} x_{i,1} P(x_i)(1-P(x_i))$ </font>\n",
    "\n",
    "`--------------------------------`\n",
    "\n",
    "**`This is 1 iteration only!`**\n",
    "\n",
    "Let us generalize each of the partials:\n",
    "\n",
    "<font size=5>$\\frac{\\partial l}{\\partial \\beta_j} = \\sum\\limits_{i=1}^{n} x_j(y_i - P(x_ij)) $</font>\n",
    "\n",
    "<font size=5>$\\frac{\\partial^2 l}{\\partial \\beta_j \\beta_k} = \\sum\\limits_{i=1}^{n} x_{i,j} x_{i,k} P(x_i)(1-P(x_i))$ </font>\n",
    "\n",
    "\n",
    "Then you would have to take these and combine:\n",
    "\n",
    "<font size=5>$\\beta*=\\beta_j-\\frac{\\frac{\\partial l}{\\partial \\beta_j}}{\\frac{\\partial^2 l}{\\partial \\beta_j \\beta_k}}$</font>\n",
    "\n",
    "\n",
    "[computational considerations](https://sites.stat.washington.edu/mmp/courses/stat535/fall15/Handouts/l3slides-training.pdf) | [derivation](https://whyml.wordpress.com/tag/logistic-regression/) | [derivation and thesis: explained logist regression](https://mds.marshall.edu/cgi/viewcontent.cgi?article=2169&context=etd)\n",
    "# `Now we have went in 1D, and 1 iteration: But, ....What if we want to go in multiple dimensions/variables?`\n",
    "\n",
    "`-------------------------`\n",
    "\n",
    "CHECK THESE OUT FOR HELP:\n",
    "\n",
    "[more than 1 variable derivation](http://www.cs.columbia.edu/~amoretti/smac_04_tutorial.html) | [ex more than 1 variable](http://web.cs.ucla.edu/~yzsun/classes/2018Fall_CS145/Discussion/Discussion_Week2.pdf) | [Suppl. text as well](https://www.statlect.com/fundamentals-of-statistics/logistic-model-maximum-likelihood) | [more help](http://www.cs.columbia.edu/~amoretti/smac_04_tutorial.html) | [alt help](http://fourier.eng.hmc.edu/e176/lectures/NM/node21.html)"
   ]
  },
  {
   "cell_type": "markdown",
   "metadata": {},
   "source": [
    " "
   ]
  },
  {
   "cell_type": "markdown",
   "metadata": {},
   "source": [
    "# `Here is Multiple Dimensions of Newton-Raphson: (Optimization)`\n",
    "\n",
    "Since we are starting from the knowledge of:\n",
    "\n",
    "This is for 1D:\n",
    "\n",
    "The **`Newton-Raphson Equation (1 iteration!):`** <font size=5>$\\beta_{i+1}=\\beta_i-\\frac{f'(\\beta_i)}{f''(\\beta_i)}$</font>\n",
    "\n",
    "We want `Multiple Dimensions`: therefore we will use the Taylor expansion second order, with Hessian and Gradient.\n",
    "\n",
    "`Let me show you something to let this resonate and make sense:`\n",
    "\n",
    "If we simplify the Taylor Expansion to: <font size=4>$f(\\beta_{x+1})\\simeq f(\\beta_o)+(\\beta_{i+1}-\\beta_o)f'(x_o)$</font>\n",
    "\n",
    "with some shuffling:\n",
    "\n",
    "<font size=5>$\\beta_{i+1}=\\beta_o-\\frac{f(\\beta_o)}{f'(\\beta_o)}$</font>\n",
    "\n",
    "**or**\n",
    "\n",
    "<font size=5>$ \\beta_{i+1}=\\beta_o-\\frac{f'(\\beta_o)}{f''(\\beta_o)}$</font>\n",
    "\n",
    "The distinction is that the first one will use a tangent line crossing the x-axis and that will be your next point to start. The seond one will use a function 'parabola' curve to approximate and it will instead use the minimum for its point to move to next location.\n",
    "\n",
    "`Here is what we want in the end from all the math:`\n",
    "\n",
    "# `Answer:` $\\beta_{i+1}=\\beta_o -H(\\beta_o)^{-1} \\triangledown f(\\beta_o)$"
   ]
  },
  {
   "cell_type": "markdown",
   "metadata": {},
   "source": [
    "# `Lets visualize what is happending with Newton-Raphson` for a few iterations if you were using a cost function\n",
    "\n",
    "[Source of plots](http://www.cs.columbia.edu/~amoretti/smac_04_tutorial.html)"
   ]
  },
  {
   "cell_type": "markdown",
   "metadata": {},
   "source": [
    "<img src=\"iter_NR.png\">"
   ]
  },
  {
   "cell_type": "markdown",
   "metadata": {},
   "source": [
    "# Alternate way is plotting:\n",
    "\n",
    "+ using a quadratic which will do the same thing; except for each iteration the minimum of the function will be used for next moving point instead of where the point crosses the axis."
   ]
  },
  {
   "cell_type": "markdown",
   "metadata": {},
   "source": [
    "# The parameters that are found here:\n",
    "\n",
    "are able to be placed back into your equation and used to find your probabilities "
   ]
  },
  {
   "cell_type": "markdown",
   "metadata": {},
   "source": [
    "# `What is the take away?`\n",
    "\n",
    "+ Each iteration will approach the min. for the cost function\n",
    "+ You are trying to find the best fit, the parameters that are found will be those!\n",
    "+ Take those parameters and put them into your function and then you will be able to best estimate your given data.\n",
    "\n",
    "+ You can then make predictions based on these parameters using your data and find out how well your actual data, measuare against your predictions by accuracy, recall, precision etc."
   ]
  },
  {
   "cell_type": "code",
   "execution_count": 27,
   "metadata": {},
   "outputs": [
    {
     "name": "stdout",
     "output_type": "stream",
     "text": [
      "Optimization terminated successfully.\n",
      "         Current function value: 0.345900\n",
      "         Iterations 8\n",
      "params [-84.83310945   0.49853544]\n",
      "predicted_prob [0.01678456 0.07078045 0.11142901 0.47949025 0.60263354 0.25366578\n",
      " 0.60263354 0.91763145 0.9482958  0.99726897 0.99938664]\n"
     ]
    }
   ],
   "source": [
    "# import statsmodels.api as sm\n",
    "# from sklearn import linear_model\n",
    "\n",
    "\n",
    "x_ = np.transpose(np.array([[162, 165, 166, 170, 171, 168, 171, 175, 176,\n",
    "182, 185]]))\n",
    "x = sm.add_constant(x_)\n",
    "y=np.array([0,0,0,0,0,1,1,1,1,1,1])\n",
    "result=sm.Logit(y,x)\n",
    "mod=result.fit(method='newton')\n",
    "print('params',mod.params)\n",
    "print('predicted_prob',mod.predict(x))"
   ]
  },
  {
   "cell_type": "code",
   "execution_count": 28,
   "metadata": {},
   "outputs": [],
   "source": [
    "x_ = np.transpose(np.array([[162, 165, 166, 170, 171, 168, 171, 175, 176,\n",
    "182, 185]]))\n",
    "\n",
    "predicted_probs=[]\n",
    "log_odds_=[]\n",
    "odds_scale=[]\n",
    "for i in x_:\n",
    "    log_odds_.append(-84.833+.4985*i)\n",
    "    odds_scale.append(np.exp(-84.833+.4985*i))\n",
    "    predicted_probs.append(np.exp(-84.833+.4985*i)/(1+np.exp(-84.833+.4985*i)))\n",
    "\n",
    "# http://www.pmean.com/13/predicted.html (math motivation)\n",
    "# https://aaronschlegel.me/newtons-method-equation-roots.html (good example worked)"
   ]
  },
  {
   "cell_type": "code",
   "execution_count": 29,
   "metadata": {},
   "outputs": [
    {
     "name": "stdout",
     "output_type": "stream",
     "text": [
      "log_odds: [array([-4.076]), array([-2.5805]), array([-2.082]), array([-0.088]), array([0.4105]), array([-1.085]), array([0.4105]), array([2.4045]), array([2.903]), array([5.894]), array([7.3895])]\n",
      "--------------------------------\n",
      "odds: [array([0.01697523]), array([0.07573613]), array([0.1246806]), array([0.91576088]), array([1.50757138]), array([0.33790179]), array([1.50757138]), array([11.07289245]), array([18.22874967]), array([362.85380061]), array([1618.89646231])]\n",
      "---------------------------------\n",
      "predicted_prob: [array([0.01669188]), array([0.070404]), array([0.11085868]), array([0.47801419]), array([0.60120776]), array([0.25256098]), array([0.60120776]), array([0.91716981]), array([0.94799454]), array([0.99725164]), array([0.99938268])]\n",
      "---------------------------------\n"
     ]
    }
   ],
   "source": [
    "\n",
    "print('log_odds:',log_odds_)\n",
    "print('--------------------------------')\n",
    "print('odds:',odds_scale)\n",
    "print('---------------------------------')\n",
    "print('predicted_prob:',predicted_probs)\n",
    "print('---------------------------------')"
   ]
  },
  {
   "cell_type": "code",
   "execution_count": 56,
   "metadata": {},
   "outputs": [
    {
     "data": {
      "text/plain": [
       "array([[4., 1.],\n",
       "       [1., 5.]])"
      ]
     },
     "execution_count": 56,
     "metadata": {},
     "output_type": "execute_result"
    }
   ],
   "source": [
    "#confusion matrix:\n",
    "mod.pred_table()\n",
    "\n",
    "# now you can take the 4+5=9 therefore 90% accuracy btw"
   ]
  },
  {
   "cell_type": "code",
   "execution_count": 85,
   "metadata": {},
   "outputs": [
    {
     "name": "stdout",
     "output_type": "stream",
     "text": [
      "coeff:beta [[0.00223001]]\n",
      "intercept [-0.14698449]\n",
      "predicted_labels [1 1 1 1 1 1 1 1 1 1 1]\n",
      "actual_labels [0 0 0 0 0 1 1 1 1 1 1]\n",
      "accuracy 0.5454545454545454\n",
      "confusion_mat [[0 5]\n",
      " [0 6]]\n"
     ]
    }
   ],
   "source": [
    "# Now with SkLearn:\n",
    "from sklearn.linear_model import LogisticRegression\n",
    "from sklearn.metrics import classification_report, confusion_matrix\n",
    "\n",
    "model = LogisticRegression(solver='liblinear', random_state=0).fit(x_, y)\n",
    "print('coeff:beta',model.coef_)\n",
    "print('intercept',model.intercept_)\n",
    "print('predicted_labels',model.predict(x_))\n",
    "print('actual_labels',y)\n",
    "print('accuracy',model.score(x_,y))\n",
    "print('confusion_mat',confusion_matrix(y, model.predict(x_)))"
   ]
  },
  {
   "cell_type": "markdown",
   "metadata": {},
   "source": [
    "# `Gradient Descent vs Newton-Raphson`\n",
    "\n",
    "**`Newton-Raphson:`**\n",
    "\n",
    "+ Finds roots\n",
    "+ converges quickly\n",
    "+ when the second derivative is known, it computes quickly such as `logistic regression`\n",
    "+ need to provide a starting point, this can be critical!\n",
    "+ `Runtime:` $O(np(n+p)+P^3$)\n",
    "+ `Memory used:` $O(p^2)$ for each iteration\n",
    "+ Computationally intensive, but since you have low iterations it will converge (if it converges) faster than gradient descent\n",
    "    + The second derivative is what helps convergence, because it is used for each step\n",
    "+ Very large datasets can be a problem with computing the Hessian matrix.\n",
    "    + To get around this you may decrease complexity/dimensions but result in more iterations\n",
    "    + Paying attention to the Hessian matrix is important as well: make sure it is positive definite.\n",
    "\n",
    "+ `When using sklearn`: consider using different solvers such as\n",
    "\n",
    "`sklearn.linear_model.LogisticRegression and use solver: 'lbfgs'`\n",
    "\n",
    "`----------------`\n",
    "\n",
    "**`Gradient Descent:`**\n",
    "\n",
    "+ finds the min/max using first derivative\n",
    "+ Can be troublesome with finding local min/max\n",
    "    + this can be combated using a random approach\n",
    "+ parametric: we need to adjust parameters for hyper-tuning\n",
    "+ `Runtime:` $O(np)$\n",
    "+ `Memory:` $O(p)$\n",
    "\n",
    "[Newton-Raphson vs Gradient Descent](https://medium.com/@papillonbee/logistic-regression-from-scratch-with-gradient-descent-and-newtons-method-ff4307e3cb30) | [Good background Training predictors](https://sites.stat.washington.edu/mmp/courses/stat535/fall15/Handouts/l3slides-training.pdf) | [worked ex. gradient descent](https://kseow.com/logisticregression.html)\n",
    "\n",
    "`SOLVER Choices over Gradient Descent:`\n",
    "\n",
    "+ `LBFGS,BFGS,Conjugate Gradient`\n",
    "    * `Pros`:\n",
    "        + Dont need to pick a parameter for learning rate\n",
    "        + usually runs faster due to less iterations for exampl\n",
    "        + can work out gradient, but there are some hiccups\n",
    "    * `Cons`\n",
    "        + Complex\n",
    "        + Somewhat of a blackbox unless you know what your doing"
   ]
  },
  {
   "cell_type": "markdown",
   "metadata": {},
   "source": [
    "# `Pros & Cons: Logistic Regression`\n",
    "\n",
    "`Pros`\n",
    "\n",
    "+ good because it classifies and returns probabilities as well\n",
    "\n",
    "+ you are able to determine the relevance of a predictor by its sign and size which is good for interpreting and training. \n",
    "\n",
    "\n",
    "`Cons`\n",
    "\n",
    "+ Potential overfitting with large datasets, use of regularization terms should be considered\n",
    "\n",
    "+ perfect separation is a problem if two classes could be completely separated. Machine learning isn't needed in this scenario. But, adding penalized terms to the weights or prior probabilities weights.\n",
    "\n",
    "[source](https://www.knowledgehut.com/blog/data-science/logistic-regression-for-machine-learning)"
   ]
  },
  {
   "cell_type": "markdown",
   "metadata": {},
   "source": [
    "# <font color=red>LIKE</font>, Share & \n",
    "\n",
    "# <font color=red>SUB</font>scribe"
   ]
  },
  {
   "cell_type": "markdown",
   "metadata": {},
   "source": [
    "# Citations & Help\n",
    "\n",
    "# ◔̯◔\n",
    "\n",
    "\n",
    "https://medium.com/@lily_su/log-linear-regression-85ed7f1a8f24\n",
    "\n",
    "https://realpython.com/logistic-regression-python/ (very good code examples)\n",
    "\n",
    "https://jakevdp.github.io/PythonDataScienceHandbook/05.06-linear-regression.html\n",
    "\n",
    "https://www.oreilly.com/library/view/hands-on-machine-learning/9781491962282/ch04.html\n",
    "\n",
    "https://towardsdatascience.com/building-a-logistic-regression-in-python-step-by-step-becd4d56c9c8\n",
    "\n",
    "https://www.pluralsight.com/guides/linear-lasso-ridge-regression-scikit-learn\n",
    "\n",
    "https://www.kdnuggets.com/2019/05/modeling-price-regularized-linear-model-xgboost.html\n",
    "\n",
    "https://towardsdatascience.com/logistic-regression-detailed-overview-46c4da4303bc\n",
    "\n",
    "https://github.com/SSaishruthi/LogisticRegression_Vectorized_Implementation/blob/master/Logistic_Regression.ipynb\n",
    "\n",
    "https://machinelearningmastery.com/logistic-regression-with-maximum-likelihood-estimation/ (good overall concept explanation)\n",
    "\n",
    "https://thelaziestprogrammer.com/sharrington/math-of-machine-learning/solving-logreg-newtons-method (code and plots)\n",
    "\n",
    "http://faculty.cas.usf.edu/mbrannick/regression/Logistic.html\n",
    "\n",
    "http://www.utstat.toronto.edu/~brunner/oldclass/appliedf11/handouts/2101f11LogisticRegression.pdf\n",
    "\n",
    "`Newton-Raphson vs Gradient Descent`\n",
    "\n",
    "https://www.datasciencecentral.com/profiles/blogs/difference-between-gradient-descent-and-newton-raphson\n",
    "\n",
    "https://www.baeldung.com/cs/gradient-descent-vs-newtons-gradient-descent\n",
    "\n",
    "https://medium.com/@papillonbee/logistic-regression-from-scratch-with-gradient-descent-and-newtons-method-ff4307e3cb30\n",
    "\n",
    "`Math`\n",
    "\n",
    "https://web.stanford.edu/class/archive/cs/cs109/cs109.1166/pdfs/40%20LogisticRegression.pdf\n",
    "\n",
    "https://win-vector.com/2011/09/14/the-simpler-derivation-of-logistic-regression/\n",
    "\n",
    "https://medium.com/analytics-vidhya/derivative-of-log-loss-function-for-logistic-regression-9b832f025c2d\n",
    "\n",
    "https://www.stat.cmu.edu/~cshalizi/uADA/12/lectures/ch12.pdf\n",
    "\n",
    "http://personal.psu.edu/jol2/course/stat597e/notes2/logit.pdf\n",
    "\n",
    "https://www.kaggle.com/hamzafar/derivation-in-context-of-logistic-regression\n",
    "\n",
    "http://www.utstat.toronto.edu/~brunner/oldclass/appliedf11/handouts/2101f11LogisticRegression.pdf\n",
    "\n",
    "https://whyml.wordpress.com/tag/logistic-regression/\n",
    "\n",
    "https://whyml.wordpress.com/2016/05/10/logistic-regression-part-1/\n",
    "\n",
    "https://www.youtube.com/watch?v=2GrfaB88w4M\n",
    "\n",
    "\n",
    "https://ethen8181.github.io/machine-learning/text_classification/logistic.html\n",
    "\n",
    "https://www.sjsu.edu/faculty/guangliang.chen/Math251F18/lec5logistic.pdf\n",
    "\n",
    "`Plotting`\n",
    "\n",
    "http://www.cs.columbia.edu/~amoretti/smac_04_tutorial.html\n",
    "\n",
    "https://medium.com/@papillonbee/logistic-regression-from-scratch-with-gradient-descent-and-newtons-method-ff4307e3cb30\n",
    "\n",
    "https://www.kaggle.com/elyas19/implement-logistic-regression-from-scratch\n",
    "\n",
    "https://github.com/DrIanGregory/MachineLearning-LogisticRegressionWithGradientDescentOrNewton\n",
    "\n",
    "http://people.duke.edu/~ccc14/sta-663-2016/13_Optimization.html\n",
    "\n",
    "https://www.knowledgehut.com/blog/data-science/logistic-regression-for-machine-learning\n",
    "\n",
    "http://yukiyanai.github.io/teaching/rm1/contents/R/logistic-regression-2.html (rstudio log regr. good example)\n",
    "\n",
    "https://beckernick.github.io/logistic-regression-from-scratch/\n",
    "\n",
    "https://machinelearningmastery.com/implement-logistic-regression-stochastic-gradient-descent-scratch-python/\n",
    "\n",
    "https://www.kaggle.com/jeppbautista/logistic-regression-from-scratch-python\n",
    "\n",
    "https://rickwierenga.com/blog/ml-fundamentals/logistic-regression.html\n",
    "\n",
    "`Decision Boundary`\n",
    "\n",
    "https://www.jeremyjordan.me/logistic-regression/\n",
    "\n",
    "https://scipython.com/blog/plotting-the-decision-boundary-of-a-logistic-regression-model/\n",
    "\n",
    "https://online.stat.psu.edu/stat508/lesson/9/9.1\n",
    "\n",
    "`Newton-Raphson Theory Help:`\n",
    "\n",
    "https://people.duke.edu/~ccc14/sta-663/MultivariateOptimizationAlgortihms.html\n",
    "\n",
    "https://relate.cs.illinois.edu/course/cs357-f15/file-version/03473f64afb954c74c02e8988f518de3eddf49a4/media/cs357-slides-newton2.pdf\n",
    "\n",
    "https://www.stat.cmu.edu/~ryantibs/convexopt-S15/lectures/14-newton.pdf\n",
    "\n",
    "https://www.youtube.com/watch?v=sAT3mNr0TBg\n",
    "\n",
    "https://www.youtube.com/watch?v=42zJ5xrdOqo\n",
    "\n",
    "https://jermwatt.github.io/machine_learning_refined/notes/4_Second_order_methods/4_4_Newtons.html"
   ]
  }
 ],
 "metadata": {
  "kernelspec": {
   "display_name": "Python 3",
   "language": "python",
   "name": "python3"
  },
  "language_info": {
   "codemirror_mode": {
    "name": "ipython",
    "version": 3
   },
   "file_extension": ".py",
   "mimetype": "text/x-python",
   "name": "python",
   "nbconvert_exporter": "python",
   "pygments_lexer": "ipython3",
   "version": "3.7.3"
  }
 },
 "nbformat": 4,
 "nbformat_minor": 4
}
